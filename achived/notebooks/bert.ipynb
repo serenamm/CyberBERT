{
 "cells": [
  {
   "cell_type": "markdown",
   "metadata": {},
   "source": [
    "### This notebook explains how to query the transformer module. \"Querying\" in this context means to supply a session (defined by items clicked on) to the transformer, and then obtain a session representation (of 100-dimensions). \n",
    "\n",
    "\n",
    "You'll may need to pip install several modules:\n",
    "\n",
    "- pip install keras-pos-embd\n",
    "- pip install keras_layer_normalization\n",
    "- pip install keras_transformer\n",
    "- pip install keras_bert\n",
    "\n",
    "### IMPORTANT:\n",
    "\n",
    "Use keras==2.2.3\n",
    "And tensorflow==1.14.0"
   ]
  },
  {
   "cell_type": "code",
   "execution_count": 3,
   "metadata": {},
   "outputs": [
    {
     "name": "stdout",
     "output_type": "stream",
     "text": [
      "Requirement already satisfied: keras-pos-embd in /home/serena/.pyenv/versions/3.7.4/lib/python3.7/site-packages (0.11.0)\n",
      "Requirement already satisfied: numpy in /home/serena/.pyenv/versions/3.7.4/lib/python3.7/site-packages (from keras-pos-embd) (1.17.2)\n",
      "Requirement already satisfied: Keras in /home/serena/.pyenv/versions/3.7.4/lib/python3.7/site-packages (from keras-pos-embd) (2.3.0)\n",
      "Requirement already satisfied: keras-preprocessing>=1.0.5 in /home/serena/.pyenv/versions/3.7.4/lib/python3.7/site-packages (from Keras->keras-pos-embd) (1.1.0)\n",
      "Requirement already satisfied: six>=1.9.0 in /home/serena/.pyenv/versions/3.7.4/lib/python3.7/site-packages (from Keras->keras-pos-embd) (1.12.0)\n",
      "Requirement already satisfied: h5py in /home/serena/.pyenv/versions/3.7.4/lib/python3.7/site-packages (from Keras->keras-pos-embd) (2.10.0)\n",
      "Requirement already satisfied: pyyaml in /home/serena/.pyenv/versions/3.7.4/lib/python3.7/site-packages (from Keras->keras-pos-embd) (5.1.2)\n",
      "Requirement already satisfied: scipy>=0.14 in /home/serena/.pyenv/versions/3.7.4/lib/python3.7/site-packages (from Keras->keras-pos-embd) (1.4.1)\n",
      "Requirement already satisfied: keras-applications>=1.0.6 in /home/serena/.pyenv/versions/3.7.4/lib/python3.7/site-packages (from Keras->keras-pos-embd) (1.0.8)\n",
      "\u001b[33mYou are using pip version 19.0.3, however version 20.2.2 is available.\n",
      "You should consider upgrading via the 'pip install --upgrade pip' command.\u001b[0m\n",
      "Requirement already satisfied: keras_layer_normalization in /home/serena/.pyenv/versions/3.7.4/lib/python3.7/site-packages (0.13.0)\n",
      "Requirement already satisfied: numpy in /home/serena/.pyenv/versions/3.7.4/lib/python3.7/site-packages (from keras_layer_normalization) (1.17.2)\n",
      "Requirement already satisfied: Keras in /home/serena/.pyenv/versions/3.7.4/lib/python3.7/site-packages (from keras_layer_normalization) (2.3.0)\n",
      "Requirement already satisfied: scipy>=0.14 in /home/serena/.pyenv/versions/3.7.4/lib/python3.7/site-packages (from Keras->keras_layer_normalization) (1.4.1)\n",
      "Requirement already satisfied: pyyaml in /home/serena/.pyenv/versions/3.7.4/lib/python3.7/site-packages (from Keras->keras_layer_normalization) (5.1.2)\n",
      "Requirement already satisfied: keras-applications>=1.0.6 in /home/serena/.pyenv/versions/3.7.4/lib/python3.7/site-packages (from Keras->keras_layer_normalization) (1.0.8)\n",
      "Requirement already satisfied: keras-preprocessing>=1.0.5 in /home/serena/.pyenv/versions/3.7.4/lib/python3.7/site-packages (from Keras->keras_layer_normalization) (1.1.0)\n",
      "Requirement already satisfied: six>=1.9.0 in /home/serena/.pyenv/versions/3.7.4/lib/python3.7/site-packages (from Keras->keras_layer_normalization) (1.12.0)\n",
      "Requirement already satisfied: h5py in /home/serena/.pyenv/versions/3.7.4/lib/python3.7/site-packages (from Keras->keras_layer_normalization) (2.10.0)\n",
      "\u001b[33mYou are using pip version 19.0.3, however version 20.2.2 is available.\n",
      "You should consider upgrading via the 'pip install --upgrade pip' command.\u001b[0m\n",
      "Requirement already satisfied: keras_transformer in /home/serena/.pyenv/versions/3.7.4/lib/python3.7/site-packages (0.30.0)\n",
      "Requirement already satisfied: numpy in /home/serena/.pyenv/versions/3.7.4/lib/python3.7/site-packages (from keras_transformer) (1.17.2)\n",
      "Requirement already satisfied: Keras in /home/serena/.pyenv/versions/3.7.4/lib/python3.7/site-packages (from keras_transformer) (2.3.0)\n",
      "Requirement already satisfied: keras-pos-embd>=0.10.0 in /home/serena/.pyenv/versions/3.7.4/lib/python3.7/site-packages (from keras_transformer) (0.11.0)\n",
      "Requirement already satisfied: keras-multi-head>=0.22.0 in /home/serena/.pyenv/versions/3.7.4/lib/python3.7/site-packages (from keras_transformer) (0.22.0)\n",
      "Requirement already satisfied: keras-layer-normalization>=0.12.0 in /home/serena/.pyenv/versions/3.7.4/lib/python3.7/site-packages (from keras_transformer) (0.13.0)\n",
      "Requirement already satisfied: keras-position-wise-feed-forward>=0.5.0 in /home/serena/.pyenv/versions/3.7.4/lib/python3.7/site-packages (from keras_transformer) (0.6.0)\n",
      "Requirement already satisfied: keras-embed-sim>=0.7.0 in /home/serena/.pyenv/versions/3.7.4/lib/python3.7/site-packages (from keras_transformer) (0.7.0)\n",
      "Requirement already satisfied: keras-applications>=1.0.6 in /home/serena/.pyenv/versions/3.7.4/lib/python3.7/site-packages (from Keras->keras_transformer) (1.0.8)\n",
      "Requirement already satisfied: six>=1.9.0 in /home/serena/.pyenv/versions/3.7.4/lib/python3.7/site-packages (from Keras->keras_transformer) (1.12.0)\n",
      "Requirement already satisfied: scipy>=0.14 in /home/serena/.pyenv/versions/3.7.4/lib/python3.7/site-packages (from Keras->keras_transformer) (1.4.1)\n",
      "Requirement already satisfied: keras-preprocessing>=1.0.5 in /home/serena/.pyenv/versions/3.7.4/lib/python3.7/site-packages (from Keras->keras_transformer) (1.1.0)\n",
      "Requirement already satisfied: h5py in /home/serena/.pyenv/versions/3.7.4/lib/python3.7/site-packages (from Keras->keras_transformer) (2.10.0)\n",
      "Requirement already satisfied: pyyaml in /home/serena/.pyenv/versions/3.7.4/lib/python3.7/site-packages (from Keras->keras_transformer) (5.1.2)\n",
      "Requirement already satisfied: keras-self-attention==0.41.0 in /home/serena/.pyenv/versions/3.7.4/lib/python3.7/site-packages (from keras-multi-head>=0.22.0->keras_transformer) (0.41.0)\n",
      "\u001b[33mYou are using pip version 19.0.3, however version 20.2.2 is available.\n",
      "You should consider upgrading via the 'pip install --upgrade pip' command.\u001b[0m\n",
      "Requirement already satisfied: keras_bert in /home/serena/.pyenv/versions/3.7.4/lib/python3.7/site-packages (0.77.0)\n",
      "Requirement already satisfied: numpy in /home/serena/.pyenv/versions/3.7.4/lib/python3.7/site-packages (from keras_bert) (1.17.2)\n",
      "Requirement already satisfied: Keras in /home/serena/.pyenv/versions/3.7.4/lib/python3.7/site-packages (from keras_bert) (2.3.0)\n",
      "Requirement already satisfied: keras-transformer>=0.30.0 in /home/serena/.pyenv/versions/3.7.4/lib/python3.7/site-packages (from keras_bert) (0.30.0)\n",
      "Requirement already satisfied: scipy>=0.14 in /home/serena/.pyenv/versions/3.7.4/lib/python3.7/site-packages (from Keras->keras_bert) (1.4.1)\n",
      "Requirement already satisfied: keras-preprocessing>=1.0.5 in /home/serena/.pyenv/versions/3.7.4/lib/python3.7/site-packages (from Keras->keras_bert) (1.1.0)\n",
      "Requirement already satisfied: keras-applications>=1.0.6 in /home/serena/.pyenv/versions/3.7.4/lib/python3.7/site-packages (from Keras->keras_bert) (1.0.8)\n",
      "Requirement already satisfied: six>=1.9.0 in /home/serena/.pyenv/versions/3.7.4/lib/python3.7/site-packages (from Keras->keras_bert) (1.12.0)\n",
      "Requirement already satisfied: h5py in /home/serena/.pyenv/versions/3.7.4/lib/python3.7/site-packages (from Keras->keras_bert) (2.10.0)\n",
      "Requirement already satisfied: pyyaml in /home/serena/.pyenv/versions/3.7.4/lib/python3.7/site-packages (from Keras->keras_bert) (5.1.2)\n",
      "Requirement already satisfied: keras-pos-embd>=0.10.0 in /home/serena/.pyenv/versions/3.7.4/lib/python3.7/site-packages (from keras-transformer>=0.30.0->keras_bert) (0.11.0)\n",
      "Requirement already satisfied: keras-multi-head>=0.22.0 in /home/serena/.pyenv/versions/3.7.4/lib/python3.7/site-packages (from keras-transformer>=0.30.0->keras_bert) (0.22.0)\n",
      "Requirement already satisfied: keras-layer-normalization>=0.12.0 in /home/serena/.pyenv/versions/3.7.4/lib/python3.7/site-packages (from keras-transformer>=0.30.0->keras_bert) (0.13.0)\n",
      "Requirement already satisfied: keras-position-wise-feed-forward>=0.5.0 in /home/serena/.pyenv/versions/3.7.4/lib/python3.7/site-packages (from keras-transformer>=0.30.0->keras_bert) (0.6.0)\n",
      "Requirement already satisfied: keras-embed-sim>=0.7.0 in /home/serena/.pyenv/versions/3.7.4/lib/python3.7/site-packages (from keras-transformer>=0.30.0->keras_bert) (0.7.0)\n",
      "Requirement already satisfied: keras-self-attention==0.41.0 in /home/serena/.pyenv/versions/3.7.4/lib/python3.7/site-packages (from keras-multi-head>=0.22.0->keras-transformer>=0.30.0->keras_bert) (0.41.0)\n",
      "\u001b[33mYou are using pip version 19.0.3, however version 20.2.2 is available.\n",
      "You should consider upgrading via the 'pip install --upgrade pip' command.\u001b[0m\n"
     ]
    }
   ],
   "source": [
    "! pip install keras-pos-embd\n",
    "! pip install keras_layer_normalization\n",
    "! pip install keras_transformer\n",
    "! pip install keras_bert"
   ]
  },
  {
   "cell_type": "code",
   "execution_count": 4,
   "metadata": {},
   "outputs": [
    {
     "name": "stdout",
     "output_type": "stream",
     "text": [
      "Collecting tensorflow==1.14.0\n",
      "  Using cached https://files.pythonhosted.org/packages/f4/28/96efba1a516cdacc2e2d6d081f699c001d414cc8ca3250e6d59ae657eb2b/tensorflow-1.14.0-cp37-cp37m-manylinux1_x86_64.whl\n",
      "Requirement already satisfied: grpcio>=1.8.6 in /home/serena/.pyenv/versions/3.7.4/lib/python3.7/site-packages (from tensorflow==1.14.0) (1.28.1)\n",
      "Requirement already satisfied: keras-preprocessing>=1.0.5 in /home/serena/.pyenv/versions/3.7.4/lib/python3.7/site-packages (from tensorflow==1.14.0) (1.1.0)\n",
      "Requirement already satisfied: astor>=0.6.0 in /home/serena/.pyenv/versions/3.7.4/lib/python3.7/site-packages (from tensorflow==1.14.0) (0.8.1)\n",
      "Collecting tensorflow-estimator<1.15.0rc0,>=1.14.0rc0 (from tensorflow==1.14.0)\n",
      "  Using cached https://files.pythonhosted.org/packages/3c/d5/21860a5b11caf0678fbc8319341b0ae21a07156911132e0e71bffed0510d/tensorflow_estimator-1.14.0-py2.py3-none-any.whl\n",
      "Requirement already satisfied: numpy<2.0,>=1.14.5 in /home/serena/.pyenv/versions/3.7.4/lib/python3.7/site-packages (from tensorflow==1.14.0) (1.17.2)\n",
      "Requirement already satisfied: gast>=0.2.0 in /home/serena/.pyenv/versions/3.7.4/lib/python3.7/site-packages (from tensorflow==1.14.0) (0.3.3)\n",
      "Collecting tensorboard<1.15.0,>=1.14.0 (from tensorflow==1.14.0)\n",
      "  Using cached https://files.pythonhosted.org/packages/91/2d/2ed263449a078cd9c8a9ba50ebd50123adf1f8cfbea1492f9084169b89d9/tensorboard-1.14.0-py3-none-any.whl\n",
      "Requirement already satisfied: google-pasta>=0.1.6 in /home/serena/.pyenv/versions/3.7.4/lib/python3.7/site-packages (from tensorflow==1.14.0) (0.2.0)\n",
      "Requirement already satisfied: wrapt>=1.11.1 in /home/serena/.pyenv/versions/3.7.4/lib/python3.7/site-packages (from tensorflow==1.14.0) (1.11.2)\n",
      "Requirement already satisfied: protobuf>=3.6.1 in /home/serena/.pyenv/versions/3.7.4/lib/python3.7/site-packages (from tensorflow==1.14.0) (3.11.3)\n",
      "Requirement already satisfied: keras-applications>=1.0.6 in /home/serena/.pyenv/versions/3.7.4/lib/python3.7/site-packages (from tensorflow==1.14.0) (1.0.8)\n",
      "Requirement already satisfied: absl-py>=0.7.0 in /home/serena/.pyenv/versions/3.7.4/lib/python3.7/site-packages (from tensorflow==1.14.0) (0.9.0)\n",
      "Requirement already satisfied: six>=1.10.0 in /home/serena/.pyenv/versions/3.7.4/lib/python3.7/site-packages (from tensorflow==1.14.0) (1.12.0)\n",
      "Requirement already satisfied: wheel>=0.26 in /home/serena/.pyenv/versions/3.7.4/lib/python3.7/site-packages (from tensorflow==1.14.0) (0.34.2)\n",
      "Requirement already satisfied: termcolor>=1.1.0 in /home/serena/.pyenv/versions/3.7.4/lib/python3.7/site-packages (from tensorflow==1.14.0) (1.1.0)\n",
      "Requirement already satisfied: markdown>=2.6.8 in /home/serena/.pyenv/versions/3.7.4/lib/python3.7/site-packages (from tensorboard<1.15.0,>=1.14.0->tensorflow==1.14.0) (3.2.1)\n",
      "Requirement already satisfied: werkzeug>=0.11.15 in /home/serena/.pyenv/versions/3.7.4/lib/python3.7/site-packages (from tensorboard<1.15.0,>=1.14.0->tensorflow==1.14.0) (1.0.1)\n",
      "Requirement already satisfied: setuptools>=41.0.0 in /home/serena/.pyenv/versions/3.7.4/lib/python3.7/site-packages (from tensorboard<1.15.0,>=1.14.0->tensorflow==1.14.0) (46.1.3)\n",
      "Requirement already satisfied: h5py in /home/serena/.pyenv/versions/3.7.4/lib/python3.7/site-packages (from keras-applications>=1.0.6->tensorflow==1.14.0) (2.10.0)\n",
      "Installing collected packages: tensorflow-estimator, tensorboard, tensorflow\n",
      "  Found existing installation: tensorflow-estimator 1.13.0\n",
      "    Uninstalling tensorflow-estimator-1.13.0:\n",
      "      Successfully uninstalled tensorflow-estimator-1.13.0\n",
      "  Found existing installation: tensorboard 1.13.1\n",
      "    Uninstalling tensorboard-1.13.1:\n",
      "      Successfully uninstalled tensorboard-1.13.1\n",
      "  Found existing installation: tensorflow 1.13.1\n",
      "    Uninstalling tensorflow-1.13.1:\n",
      "      Successfully uninstalled tensorflow-1.13.1\n",
      "Successfully installed tensorboard-1.14.0 tensorflow-1.14.0 tensorflow-estimator-1.14.0\n",
      "\u001b[33mYou are using pip version 19.0.3, however version 20.2.2 is available.\n",
      "You should consider upgrading via the 'pip install --upgrade pip' command.\u001b[0m\n"
     ]
    }
   ],
   "source": [
    "! pip install tensorflow==1.14.0"
   ]
  },
  {
   "cell_type": "code",
   "execution_count": 5,
   "metadata": {},
   "outputs": [
    {
     "name": "stdout",
     "output_type": "stream",
     "text": [
      "Collecting keras==2.2.3\n",
      "  Using cached https://files.pythonhosted.org/packages/06/ea/ad52366ce566f7b54d36834f98868f743ea81a416b3665459a9728287728/Keras-2.2.3-py2.py3-none-any.whl\n",
      "Requirement already satisfied: h5py in /home/serena/.pyenv/versions/3.7.4/lib/python3.7/site-packages (from keras==2.2.3) (2.10.0)\n",
      "Requirement already satisfied: keras-preprocessing>=1.0.5 in /home/serena/.pyenv/versions/3.7.4/lib/python3.7/site-packages (from keras==2.2.3) (1.1.0)\n",
      "Requirement already satisfied: keras-applications>=1.0.6 in /home/serena/.pyenv/versions/3.7.4/lib/python3.7/site-packages (from keras==2.2.3) (1.0.8)\n",
      "Requirement already satisfied: scipy>=0.14 in /home/serena/.pyenv/versions/3.7.4/lib/python3.7/site-packages (from keras==2.2.3) (1.4.1)\n",
      "Requirement already satisfied: pyyaml in /home/serena/.pyenv/versions/3.7.4/lib/python3.7/site-packages (from keras==2.2.3) (5.1.2)\n",
      "Requirement already satisfied: numpy>=1.9.1 in /home/serena/.pyenv/versions/3.7.4/lib/python3.7/site-packages (from keras==2.2.3) (1.17.2)\n",
      "Requirement already satisfied: six>=1.9.0 in /home/serena/.pyenv/versions/3.7.4/lib/python3.7/site-packages (from keras==2.2.3) (1.12.0)\n",
      "Installing collected packages: keras\n",
      "  Found existing installation: Keras 2.3.0\n",
      "    Uninstalling Keras-2.3.0:\n",
      "      Successfully uninstalled Keras-2.3.0\n",
      "Successfully installed keras-2.2.3\n",
      "\u001b[33mYou are using pip version 19.0.3, however version 20.2.2 is available.\n",
      "You should consider upgrading via the 'pip install --upgrade pip' command.\u001b[0m\n"
     ]
    }
   ],
   "source": [
    "! pip install keras==2.2.3"
   ]
  },
  {
   "cell_type": "code",
   "execution_count": 8,
   "metadata": {},
   "outputs": [
    {
     "name": "stderr",
     "output_type": "stream",
     "text": [
      "Using TensorFlow backend.\n"
     ]
    },
    {
     "ename": "ModuleNotFoundError",
     "evalue": "No module named 'tensorflow'",
     "output_type": "error",
     "traceback": [
      "\u001b[0;31m---------------------------------------------------------------------------\u001b[0m",
      "\u001b[0;31mModuleNotFoundError\u001b[0m                       Traceback (most recent call last)",
      "\u001b[0;32m<ipython-input-8-33678a27b4c7>\u001b[0m in \u001b[0;36m<module>\u001b[0;34m\u001b[0m\n\u001b[1;32m      7\u001b[0m \u001b[0;34m\u001b[0m\u001b[0m\n\u001b[1;32m      8\u001b[0m \u001b[0;32mimport\u001b[0m \u001b[0margparse\u001b[0m\u001b[0;34m\u001b[0m\u001b[0;34m\u001b[0m\u001b[0m\n\u001b[0;32m----> 9\u001b[0;31m \u001b[0;32mimport\u001b[0m \u001b[0mkeras\u001b[0m\u001b[0;34m\u001b[0m\u001b[0;34m\u001b[0m\u001b[0m\n\u001b[0m\u001b[1;32m     10\u001b[0m \u001b[0;32mimport\u001b[0m \u001b[0mnumpy\u001b[0m \u001b[0;32mas\u001b[0m \u001b[0mnp\u001b[0m\u001b[0;34m\u001b[0m\u001b[0;34m\u001b[0m\u001b[0m\n\u001b[1;32m     11\u001b[0m \u001b[0;32mimport\u001b[0m \u001b[0mpandas\u001b[0m \u001b[0;32mas\u001b[0m \u001b[0mpd\u001b[0m\u001b[0;34m\u001b[0m\u001b[0;34m\u001b[0m\u001b[0m\n",
      "\u001b[0;32m~/miniconda3/lib/python3.8/site-packages/keras/__init__.py\u001b[0m in \u001b[0;36m<module>\u001b[0;34m\u001b[0m\n\u001b[1;32m      1\u001b[0m \u001b[0;32mfrom\u001b[0m \u001b[0m__future__\u001b[0m \u001b[0;32mimport\u001b[0m \u001b[0mabsolute_import\u001b[0m\u001b[0;34m\u001b[0m\u001b[0;34m\u001b[0m\u001b[0m\n\u001b[1;32m      2\u001b[0m \u001b[0;34m\u001b[0m\u001b[0m\n\u001b[0;32m----> 3\u001b[0;31m \u001b[0;32mfrom\u001b[0m \u001b[0;34m.\u001b[0m \u001b[0;32mimport\u001b[0m \u001b[0mutils\u001b[0m\u001b[0;34m\u001b[0m\u001b[0;34m\u001b[0m\u001b[0m\n\u001b[0m\u001b[1;32m      4\u001b[0m \u001b[0;32mfrom\u001b[0m \u001b[0;34m.\u001b[0m \u001b[0;32mimport\u001b[0m \u001b[0mactivations\u001b[0m\u001b[0;34m\u001b[0m\u001b[0;34m\u001b[0m\u001b[0m\n\u001b[1;32m      5\u001b[0m \u001b[0;32mfrom\u001b[0m \u001b[0;34m.\u001b[0m \u001b[0;32mimport\u001b[0m \u001b[0mapplications\u001b[0m\u001b[0;34m\u001b[0m\u001b[0;34m\u001b[0m\u001b[0m\n",
      "\u001b[0;32m~/miniconda3/lib/python3.8/site-packages/keras/utils/__init__.py\u001b[0m in \u001b[0;36m<module>\u001b[0;34m\u001b[0m\n\u001b[1;32m      4\u001b[0m \u001b[0;32mfrom\u001b[0m \u001b[0;34m.\u001b[0m \u001b[0;32mimport\u001b[0m \u001b[0mdata_utils\u001b[0m\u001b[0;34m\u001b[0m\u001b[0;34m\u001b[0m\u001b[0m\n\u001b[1;32m      5\u001b[0m \u001b[0;32mfrom\u001b[0m \u001b[0;34m.\u001b[0m \u001b[0;32mimport\u001b[0m \u001b[0mio_utils\u001b[0m\u001b[0;34m\u001b[0m\u001b[0;34m\u001b[0m\u001b[0m\n\u001b[0;32m----> 6\u001b[0;31m \u001b[0;32mfrom\u001b[0m \u001b[0;34m.\u001b[0m \u001b[0;32mimport\u001b[0m \u001b[0mconv_utils\u001b[0m\u001b[0;34m\u001b[0m\u001b[0;34m\u001b[0m\u001b[0m\n\u001b[0m\u001b[1;32m      7\u001b[0m \u001b[0;34m\u001b[0m\u001b[0m\n\u001b[1;32m      8\u001b[0m \u001b[0;31m# Globally-importable utils.\u001b[0m\u001b[0;34m\u001b[0m\u001b[0;34m\u001b[0m\u001b[0;34m\u001b[0m\u001b[0m\n",
      "\u001b[0;32m~/miniconda3/lib/python3.8/site-packages/keras/utils/conv_utils.py\u001b[0m in \u001b[0;36m<module>\u001b[0;34m\u001b[0m\n\u001b[1;32m      7\u001b[0m \u001b[0;32mfrom\u001b[0m \u001b[0msix\u001b[0m\u001b[0;34m.\u001b[0m\u001b[0mmoves\u001b[0m \u001b[0;32mimport\u001b[0m \u001b[0mrange\u001b[0m\u001b[0;34m\u001b[0m\u001b[0;34m\u001b[0m\u001b[0m\n\u001b[1;32m      8\u001b[0m \u001b[0;32mimport\u001b[0m \u001b[0mnumpy\u001b[0m \u001b[0;32mas\u001b[0m \u001b[0mnp\u001b[0m\u001b[0;34m\u001b[0m\u001b[0;34m\u001b[0m\u001b[0m\n\u001b[0;32m----> 9\u001b[0;31m \u001b[0;32mfrom\u001b[0m \u001b[0;34m.\u001b[0m\u001b[0;34m.\u001b[0m \u001b[0;32mimport\u001b[0m \u001b[0mbackend\u001b[0m \u001b[0;32mas\u001b[0m \u001b[0mK\u001b[0m\u001b[0;34m\u001b[0m\u001b[0;34m\u001b[0m\u001b[0m\n\u001b[0m\u001b[1;32m     10\u001b[0m \u001b[0;34m\u001b[0m\u001b[0m\n\u001b[1;32m     11\u001b[0m \u001b[0;34m\u001b[0m\u001b[0m\n",
      "\u001b[0;32m~/miniconda3/lib/python3.8/site-packages/keras/backend/__init__.py\u001b[0m in \u001b[0;36m<module>\u001b[0;34m\u001b[0m\n\u001b[1;32m     87\u001b[0m \u001b[0;32melif\u001b[0m \u001b[0m_BACKEND\u001b[0m \u001b[0;34m==\u001b[0m \u001b[0;34m'tensorflow'\u001b[0m\u001b[0;34m:\u001b[0m\u001b[0;34m\u001b[0m\u001b[0;34m\u001b[0m\u001b[0m\n\u001b[1;32m     88\u001b[0m     \u001b[0msys\u001b[0m\u001b[0;34m.\u001b[0m\u001b[0mstderr\u001b[0m\u001b[0;34m.\u001b[0m\u001b[0mwrite\u001b[0m\u001b[0;34m(\u001b[0m\u001b[0;34m'Using TensorFlow backend.\\n'\u001b[0m\u001b[0;34m)\u001b[0m\u001b[0;34m\u001b[0m\u001b[0;34m\u001b[0m\u001b[0m\n\u001b[0;32m---> 89\u001b[0;31m     \u001b[0;32mfrom\u001b[0m \u001b[0;34m.\u001b[0m\u001b[0mtensorflow_backend\u001b[0m \u001b[0;32mimport\u001b[0m \u001b[0;34m*\u001b[0m\u001b[0;34m\u001b[0m\u001b[0;34m\u001b[0m\u001b[0m\n\u001b[0m\u001b[1;32m     90\u001b[0m \u001b[0;32melse\u001b[0m\u001b[0;34m:\u001b[0m\u001b[0;34m\u001b[0m\u001b[0;34m\u001b[0m\u001b[0m\n\u001b[1;32m     91\u001b[0m     \u001b[0;31m# Try and load external backend.\u001b[0m\u001b[0;34m\u001b[0m\u001b[0;34m\u001b[0m\u001b[0;34m\u001b[0m\u001b[0m\n",
      "\u001b[0;32m~/miniconda3/lib/python3.8/site-packages/keras/backend/tensorflow_backend.py\u001b[0m in \u001b[0;36m<module>\u001b[0;34m\u001b[0m\n\u001b[1;32m      3\u001b[0m \u001b[0;32mfrom\u001b[0m \u001b[0m__future__\u001b[0m \u001b[0;32mimport\u001b[0m \u001b[0mprint_function\u001b[0m\u001b[0;34m\u001b[0m\u001b[0;34m\u001b[0m\u001b[0m\n\u001b[1;32m      4\u001b[0m \u001b[0;34m\u001b[0m\u001b[0m\n\u001b[0;32m----> 5\u001b[0;31m \u001b[0;32mimport\u001b[0m \u001b[0mtensorflow\u001b[0m \u001b[0;32mas\u001b[0m \u001b[0mtf\u001b[0m\u001b[0;34m\u001b[0m\u001b[0;34m\u001b[0m\u001b[0m\n\u001b[0m\u001b[1;32m      6\u001b[0m \u001b[0;32mfrom\u001b[0m \u001b[0mtensorflow\u001b[0m\u001b[0;34m.\u001b[0m\u001b[0mpython\u001b[0m\u001b[0;34m.\u001b[0m\u001b[0mframework\u001b[0m \u001b[0;32mimport\u001b[0m \u001b[0mops\u001b[0m \u001b[0;32mas\u001b[0m \u001b[0mtf_ops\u001b[0m\u001b[0;34m\u001b[0m\u001b[0;34m\u001b[0m\u001b[0m\n\u001b[1;32m      7\u001b[0m \u001b[0;32mfrom\u001b[0m \u001b[0mtensorflow\u001b[0m\u001b[0;34m.\u001b[0m\u001b[0mpython\u001b[0m\u001b[0;34m.\u001b[0m\u001b[0mtraining\u001b[0m \u001b[0;32mimport\u001b[0m \u001b[0mmoving_averages\u001b[0m\u001b[0;34m\u001b[0m\u001b[0;34m\u001b[0m\u001b[0m\n",
      "\u001b[0;31mModuleNotFoundError\u001b[0m: No module named 'tensorflow'"
     ]
    }
   ],
   "source": [
    "import sys\n",
    "# Make sure the keras_bert_rec folder is in the root of your repo\n",
    "sys.path.insert(0, './keras_bert_rec')\n",
    "import importlib\n",
    "# import keras_bert_rec as rec\n",
    "# importlib.reload(rec)\n",
    "\n",
    "import argparse\n",
    "import keras\n",
    "import numpy as np\n",
    "import pandas as pd\n",
    "import pickle\n",
    "import sys\n",
    "import tensorflow as tf\n",
    "import importlib\n",
    "\n",
    "from itertools import chain\n",
    "from keras import backend as K\n",
    "from keras.models import load_model, Sequential\n",
    "from keras.layers import Dense, Dropout, Activation, Flatten\n",
    "\n",
    "from sklearn.preprocessing import OneHotEncoder"
   ]
  },
  {
   "cell_type": "code",
   "execution_count": 7,
   "metadata": {},
   "outputs": [
    {
     "name": "stdout",
     "output_type": "stream",
     "text": [
      "3.7.4\r\n"
     ]
    }
   ],
   "source": [
    "! pyenv local"
   ]
  },
  {
   "cell_type": "markdown",
   "metadata": {},
   "source": [
    "### We'll need to specifically point to the \"BERT\" model (it's the same architecture as BERT, but we didn't train it in order to endow bidirectionality), as well as load in the token dictionary, which maps an item's index to its ID in the Diginetica data. When the data was passed through the transformer module, it was re-indexed. Our output will use the original IDs from Diginetica."
   ]
  },
  {
   "cell_type": "code",
   "execution_count": null,
   "metadata": {},
   "outputs": [],
   "source": [
    "# Point to the keras_bert_rec module, and the model itself, as well as the token dict and data\n",
    "KERAS_BERT_REC_PATH = '/home/serena/Personal/AISC/rl_recsys/keras_bert_rec'\n",
    "DATA_PATH = \"/home/serena/Personal/Research/Notebooks/\"\n",
    "MODEL_FILE = \\\n",
    "    DATA_PATH + 'DIGINETICA__30SEQ_LEN_256BATCH_SIZE_2HEAD_NUM_4TRANSFORMER_NUM_50EMBED_DIM_128FEED_FORWARD_DIM_0.1DROPOUT_RATE.model'\n",
    "TOKEN_DICT_PATH = DATA_PATH + 'diginetica_token_dict.pkl'\n",
    "TRAIN_SESSION_PATH = DATA_PATH + 'diginetica_train_session_hist.pkl'\n",
    "TEST_SESSION_PATH = DATA_PATH + 'diginetica_test_session_hist.pkl'\n",
    "\n",
    "### Some config stuff ###\n",
    "config = tf.ConfigProto()\n",
    "# Don't pre-allocate memory; allocate as-needed\n",
    "config.gpu_options.allow_growth = True\n",
    "# Only allow a total of half the GPU memory to be allocated\n",
    "config.gpu_options.per_process_gpu_memory_fraction = 0.95\n",
    "# Create a session with the above options specified.\n",
    "K.tensorflow_backend.set_session(tf.Session(config=config))"
   ]
  },
  {
   "cell_type": "markdown",
   "metadata": {},
   "source": [
    "### Some functions that we'll need in order to query the model:"
   ]
  },
  {
   "cell_type": "code",
   "execution_count": null,
   "metadata": {},
   "outputs": [],
   "source": [
    "def get_lookup(item_id):\n",
    "    \"\"\" If an item id isn't in the dictionary,\n",
    "        give it the id 1.\"\"\"\n",
    "    \n",
    "    try:\n",
    "        mapped_id = lookup_dict[item_id]\n",
    "    except KeyError:\n",
    "        mapped_id = lookup_dict[1]\n",
    "        \n",
    "    return mapped_id\n",
    "\n",
    "def apply_lookup(row, row_name):\n",
    "        \n",
    "    if row_name == \"prev_items\":\n",
    "\n",
    "        item_ids_list = [get_lookup(x) for x in row[\"prev_items\"]]\n",
    "\n",
    "    elif row_name == \"prev_sessions\":\n",
    "\n",
    "        item_ids_list = []\n",
    "\n",
    "        sess = row[\"prev_sessions\"]\n",
    "        sess_list = []\n",
    "\n",
    "        for i in sess:\n",
    "            item_ids_list = [lookup_dict[x] for x in i]\n",
    "            item_ids_list.append(item_ids_list)\n",
    "    \n",
    "    elif row_name == \"target\":\n",
    "        \n",
    "        item_ids_list = [get_lookup(row[\"target\"])]\n",
    "\n",
    "    \n",
    "    return item_ids_list\n",
    "\n",
    "\n",
    "def get_session_rep_model(\n",
    "    mlm_model, token_dict, head_num, transformer_num, \n",
    "    embed_dim, feed_forward_dim,  seq_len):\n",
    "    # create duplicate model that returns session representation, rather than cloze task/masked scentence\n",
    "    # note that the model architecture needs to be the same!\n",
    "    \n",
    "    q = rec.get_rec_model(\n",
    "        token_num=len(token_dict),\n",
    "        head_num=head_num,\n",
    "        transformer_num=transformer_num,\n",
    "        embed_dim=embed_dim,\n",
    "        feed_forward_dim=feed_forward_dim,\n",
    "        seq_len=seq_len,\n",
    "        pos_num=seq_len,\n",
    "        dropout_rate=0.05,\n",
    "        training=False\n",
    "    )\n",
    "    model = keras.models.Model(inputs=q[0], outputs=q[1])\n",
    "    \n",
    "    # copy layer weights up to the session representation\n",
    "    for i in range(len(model.layers)):\n",
    "        model.layers[i].set_weights(mlm_model.layers[i].get_weights())\n",
    "    \n",
    "    return model\n",
    "\n",
    "def clean_session(sequence, seq_len, token_map):\n",
    "    \"\"\"Map tokens from raw values to embedding indexes and pad.\n",
    "    \n",
    "    sequence: list or array of item ids\n",
    "    token_map: dict where keys are raw item ids, values are corresponding embedding index\n",
    "    seq_len: length of sequence defined for model\n",
    "    \"\"\"\n",
    "    # Copy, or else it'll overwrite the dataframe\n",
    "    clean_sequence = sequence.copy()\n",
    "    for j, token in enumerate(clean_sequence):\n",
    "            clean_sequence[j] = token_map.get(token, 0)\n",
    "    if len(clean_sequence) < seq_len:\n",
    "            clean_sequence = clean_sequence + [0] * (seq_len - len(clean_sequence))\n",
    "    # If a sequence is greater than SEQ_LEN then take the most recent SEQ_LEN clicks\n",
    "    return clean_sequence[-seq_len:]\n"
   ]
  },
  {
   "cell_type": "markdown",
   "metadata": {},
   "source": [
    "### We'll have to specify the parameters of the transformer as well."
   ]
  },
  {
   "cell_type": "code",
   "execution_count": null,
   "metadata": {},
   "outputs": [],
   "source": [
    "# These parameters match the model specified by MODEL_FILE\n",
    "SEQ_LEN = 30\n",
    "BATCH_SIZE = 256\n",
    "HEAD_NUM = 2\n",
    "TRANSFORMER_NUM = 4\n",
    "EMBEDDING_DIMENSION = 50\n",
    "FEED_FORWARD_DIM = 128\n",
    "DROPOUT_RATE= 0.1"
   ]
  },
  {
   "cell_type": "markdown",
   "metadata": {},
   "source": [
    "### And now we'll load in the actual model, with the required parameters."
   ]
  },
  {
   "cell_type": "code",
   "execution_count": null,
   "metadata": {},
   "outputs": [],
   "source": [
    "bert_model = load_model(MODEL_FILE, custom_objects=rec.get_custom_objects())\n",
    "model = get_session_rep_model(\n",
    "    bert_model, lookup_dict, HEAD_NUM, TRANSFORMER_NUM, EMBEDDING_DIMENSION, FEED_FORWARD_DIM, SEQ_LEN)"
   ]
  },
  {
   "cell_type": "markdown",
   "metadata": {},
   "source": [
    "### Let's also load in that lookup dictionary. We'll also need to get the embedding layer."
   ]
  },
  {
   "cell_type": "code",
   "execution_count": null,
   "metadata": {},
   "outputs": [],
   "source": [
    "lookup_dict = pd.read_pickle(TOKEN_DICT_PATH)"
   ]
  },
  {
   "cell_type": "code",
   "execution_count": null,
   "metadata": {},
   "outputs": [],
   "source": [
    "embeddings = model.layers[1].get_weights()[0]\n",
    "embeddings"
   ]
  },
  {
   "cell_type": "markdown",
   "metadata": {},
   "source": [
    "### The functions below will be used to query the transformer."
   ]
  },
  {
   "cell_type": "code",
   "execution_count": null,
   "metadata": {},
   "outputs": [],
   "source": [
    "def get_session_representation(row, token_dict, model, seq_len=30):\n",
    "    \n",
    "    clean_representation = clean_session(row[\"session\"], seq_len, token_dict)\n",
    "    # Get flattened representation\n",
    "    session_representation = model.predict(np.array([clean_representation])).flatten()\n",
    "    \n",
    "    if len(clean_representation) == 0:\n",
    "        return np.array([0] * EMBEDDING_DIMENSION)\n",
    "    \n",
    "    else:\n",
    "    \n",
    "        return session_representation\n",
    "\n",
    "def create_df(df, token_dict, model):\n",
    "        \n",
    "    df[\"session_representation\"] = \\\n",
    "        df.apply(lambda x: get_session_representation(x,token_dict, model), axis=1)\n",
    "      \n",
    "    return df"
   ]
  },
  {
   "cell_type": "markdown",
   "metadata": {},
   "source": [
    "### Now we can obtain our session representations!"
   ]
  },
  {
   "cell_type": "code",
   "execution_count": null,
   "metadata": {},
   "outputs": [],
   "source": [
    "train_df = pd.read_pickle(TRAIN_SESSION_PATH)\n",
    "test_df = pd.read_pickle(TEST_SESSION_PATH)\n",
    "\n",
    "# Just to show that it works!\n",
    "train_data = create_df(train_df[:10], lookup_dict, model)\n",
    "#test_data = create_df(test_df, lookup_dict, model)"
   ]
  },
  {
   "cell_type": "code",
   "execution_count": null,
   "metadata": {},
   "outputs": [],
   "source": []
  }
 ],
 "metadata": {
  "kernelspec": {
   "display_name": "Python 3",
   "language": "python",
   "name": "python3"
  },
  "language_info": {
   "codemirror_mode": {
    "name": "ipython",
    "version": 3
   },
   "file_extension": ".py",
   "mimetype": "text/x-python",
   "name": "python",
   "nbconvert_exporter": "python",
   "pygments_lexer": "ipython3",
   "version": "3.8.2"
  }
 },
 "nbformat": 4,
 "nbformat_minor": 2
}
