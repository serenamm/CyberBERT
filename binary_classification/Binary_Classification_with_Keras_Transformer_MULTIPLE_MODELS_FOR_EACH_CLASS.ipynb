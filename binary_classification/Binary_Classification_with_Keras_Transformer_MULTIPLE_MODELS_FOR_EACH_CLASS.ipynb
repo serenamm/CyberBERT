{
  "nbformat": 4,
  "nbformat_minor": 0,
  "metadata": {
    "colab": {
      "name": "Binary Classification with Keras Transformer - MULTIPLE MODELS FOR EACH CLASS",
      "provenance": [],
      "collapsed_sections": []
    },
    "kernelspec": {
      "display_name": "Python 3",
      "language": "python",
      "name": "python3"
    },
    "language_info": {
      "codemirror_mode": {
        "name": "ipython",
        "version": 3
      },
      "file_extension": ".py",
      "mimetype": "text/x-python",
      "name": "python",
      "nbconvert_exporter": "python",
      "pygments_lexer": "ipython3",
      "version": "3.7.0"
    }
  },
  "cells": [
    {
      "cell_type": "markdown",
      "metadata": {
        "id": "DqMpI159_056"
      },
      "source": [
        "# Text classification with Transformer\n",
        "\n",
        "---\n",
        "\n",
        "\n",
        "\n",
        "**Author:** [Apoorv Nandan](https://twitter.com/NandanApoorv)<br>\n",
        "**Date created:** 2020/05/10<br>\n",
        "**Last modified:** 2020/05/10<br>\n",
        "**Description:** Implement a Transformer block as a Keras layer and use it for text classification."
      ]
    },
    {
      "cell_type": "markdown",
      "metadata": {
        "id": "Yj-zH981_058"
      },
      "source": [
        "## Setup\n"
      ]
    },
    {
      "cell_type": "code",
      "metadata": {
        "id": "xNgNOCLaAOgo",
        "outputId": "d5296d0c-741a-4621-d66d-1826dabfb7da",
        "colab": {
          "base_uri": "https://localhost:8080/",
          "height": 34
        }
      },
      "source": [
        "from google.colab import drive\n",
        "drive.mount(\"/content/drive\")"
      ],
      "execution_count": null,
      "outputs": [
        {
          "output_type": "stream",
          "text": [
            "Drive already mounted at /content/drive; to attempt to forcibly remount, call drive.mount(\"/content/drive\", force_remount=True).\n"
          ],
          "name": "stdout"
        }
      ]
    },
    {
      "cell_type": "code",
      "metadata": {
        "id": "W3GVKNPD_05-"
      },
      "source": [
        "import tensorflow as tf\n",
        "from tensorflow import keras\n",
        "from tensorflow.keras import layers\n",
        "\n",
        "import pandas as pd\n",
        "import numpy as np\n"
      ],
      "execution_count": null,
      "outputs": []
    },
    {
      "cell_type": "markdown",
      "metadata": {
        "id": "I5FF1n6__06H"
      },
      "source": [
        "## Implement multi head self attention as a Keras layer\n"
      ]
    },
    {
      "cell_type": "code",
      "metadata": {
        "id": "TtcgyRjZ_06J"
      },
      "source": [
        "class MultiHeadSelfAttention(layers.Layer):\n",
        "    def __init__(self, embed_dim, num_heads=8):\n",
        "        super(MultiHeadSelfAttention, self).__init__()\n",
        "        self.embed_dim = embed_dim\n",
        "        self.num_heads = num_heads\n",
        "        if embed_dim % num_heads != 0:\n",
        "            raise ValueError(\n",
        "                f\"embedding dimension = {embed_dim} should be divisible by number of heads = {num_heads}\"\n",
        "            )\n",
        "        self.projection_dim = embed_dim // num_heads\n",
        "        self.query_dense = layers.Dense(embed_dim)\n",
        "        self.key_dense = layers.Dense(embed_dim)\n",
        "        self.value_dense = layers.Dense(embed_dim)\n",
        "        self.combine_heads = layers.Dense(embed_dim)\n",
        "\n",
        "    def attention(self, query, key, value):\n",
        "        score = tf.matmul(query, key, transpose_b=True)\n",
        "        dim_key = tf.cast(tf.shape(key)[-1], tf.float32)\n",
        "        scaled_score = score / tf.math.sqrt(dim_key)\n",
        "        weights = tf.nn.softmax(scaled_score, axis=-1)\n",
        "        output = tf.matmul(weights, value)\n",
        "        return output, weights\n",
        "\n",
        "    def separate_heads(self, x, batch_size):\n",
        "        \"\"\"Reshape x to the shape (batch_size, -1, num_heads, embedding dimension.\n",
        "        Used to obtain the separate attention heads in each for each batch.\"\"\"\n",
        "        # -1 to ensure the dimension of the reshaped tensor is compatible with\n",
        "        # the original x\n",
        "        x = tf.reshape(x, (batch_size, -1, self.num_heads, self.projection_dim))\n",
        "        # ensure the transposed tensor dimensions are 0, 2, 1, 3\n",
        "        return tf.transpose(x, perm=[0, 2, 1, 3])\n",
        "\n",
        "    def call(self, inputs):\n",
        "        # x.shape = [batch_size, seq_len, embedding_dim]\n",
        "        batch_size = tf.shape(inputs)[0]\n",
        "        query = self.query_dense(inputs)  # (batch_size, seq_len, embed_dim)\n",
        "        key = self.key_dense(inputs)  # (batch_size, seq_len, embed_dim)\n",
        "        value = self.value_dense(inputs)  # (batch_size, seq_len, embed_dim)\n",
        "        query = self.separate_heads(\n",
        "            query, batch_size\n",
        "        )  # (batch_size, num_heads, seq_len, projection_dim)\n",
        "        key = self.separate_heads(\n",
        "            key, batch_size\n",
        "        )  # (batch_size, num_heads, seq_len, projection_dim)\n",
        "        value = self.separate_heads(\n",
        "            value, batch_size\n",
        "        )  # (batch_size, num_heads, seq_len, projection_dim)\n",
        "        attention, weights = self.attention(query, key, value)\n",
        "        attention = tf.transpose(\n",
        "            attention, perm=[0, 2, 1, 3]\n",
        "        )  # (batch_size, seq_len, num_heads, projection_dim)\n",
        "        concat_attention = tf.reshape(\n",
        "            attention, (batch_size, -1, self.embed_dim)\n",
        "        )  # (batch_size, seq_len, embed_dim)\n",
        "        # Recombine the heads\n",
        "        output = self.combine_heads(\n",
        "            concat_attention\n",
        "        )  # (batch_size, seq_len, embed_dim)\n",
        "        return output\n",
        "\n"
      ],
      "execution_count": null,
      "outputs": []
    },
    {
      "cell_type": "markdown",
      "metadata": {
        "id": "KKgFqsUM_06Q"
      },
      "source": [
        "## Implement a Transformer block as a layer\n"
      ]
    },
    {
      "cell_type": "code",
      "metadata": {
        "id": "Ay0o4Lsxg-f0"
      },
      "source": [
        "from keras.layers import LeakyReLU\n",
        "\n",
        "def gelu(x):\n",
        "    \"\"\"Gaussian Error Linear Unit.\n",
        "    This is a smoother version of the RELU.\n",
        "    Original paper: https://arxiv.org/abs/1606.08415\n",
        "    refer : https://github.com/google-research/bert/blob/bee6030e31e42a9394ac567da170a89a98d2062f/modeling.py#L264\n",
        "    Args:\n",
        "        x: float Tensor to perform activation.\n",
        "    Returns:\n",
        "        `x` with the GELU activation applied.\n",
        "    \"\"\"\n",
        "    cdf = 0.5 * (1.0 + tf.tanh(\n",
        "        (np.sqrt(2 / np.pi) * (x + 0.044715 * tf.pow(x, 3)))))\n",
        "    return x * cdf"
      ],
      "execution_count": null,
      "outputs": []
    },
    {
      "cell_type": "code",
      "metadata": {
        "id": "C53lAxEEfbvb"
      },
      "source": [
        "\n",
        "class TransformerBlockWithLeakyRelu(layers.Layer):\n",
        "    def __init__(self, embed_dim, num_heads, ff_dim, rate=0.1):\n",
        "        super(TransformerBlockWithLeakyRelu, self).__init__()\n",
        "        self.att = MultiHeadSelfAttention(embed_dim, num_heads)\n",
        "        self.ffn = keras.Sequential(\n",
        "            # note: we use GELU here to match out text\n",
        "            # This is an addition to the existing code tutorial\n",
        "            [layers.Dense(ff_dim, activation=gelu), layers.Dense(embed_dim),]\n",
        "        )\n",
        "        self.layernorm1 = layers.LayerNormalization(epsilon=1e-6)\n",
        "        self.layernorm2 = layers.LayerNormalization(epsilon=1e-6)\n",
        "        self.dropout1 = layers.Dropout(rate)\n",
        "        self.dropout2 = layers.Dropout(rate)\n",
        "\n",
        "    def call(self, inputs, training):\n",
        "        # Multi-head attention\n",
        "        attn_output = self.att(inputs)\n",
        "        # Apply dropout\n",
        "        attn_output = self.dropout1(attn_output, training=training)\n",
        "        # Apply leakyrelu after each sublayer\n",
        "        ## Added this to the existing code\n",
        "        attn_output = LeakyReLU(alpha=0.01)(attn_output)\n",
        "        # Add and norm\n",
        "        out1 = self.layernorm1(inputs + attn_output)\n",
        "        ffn_output = self.ffn(out1)\n",
        "        # Pass through FFNN, dropout again\n",
        "        ffn_output = self.dropout2(ffn_output, training=training)\n",
        "        # Apply leakyrelu after each sublayer\n",
        "        ## Aded this to the existing code\n",
        "        ffn_output = LeakyReLU(alpha=0.01)(ffn_output)\n",
        "        # Final add and norm\n",
        "        return self.layernorm2(out1 + ffn_output)\n",
        "\n"
      ],
      "execution_count": null,
      "outputs": []
    },
    {
      "cell_type": "markdown",
      "metadata": {
        "id": "dQh1BBiO_06Z"
      },
      "source": [
        "## Implement embedding layer\n",
        "\n",
        "Two seperate embedding layers, one for tokens, one for token index (positions).\n"
      ]
    },
    {
      "cell_type": "code",
      "metadata": {
        "id": "BbWfIDg9_06a"
      },
      "source": [
        "\n",
        "class TokenAndPositionEmbedding(layers.Layer):\n",
        "    \"\"\"Add positional embedding\"\"\"\n",
        "    def __init__(self, maxlen, vocab_size, embed_dim):\n",
        "        super(TokenAndPositionEmbedding, self).__init__()\n",
        "        self.token_emb = layers.Embedding(input_dim=vocab_size, output_dim=embed_dim)\n",
        "        self.pos_emb = layers.Embedding(input_dim=maxlen, output_dim=embed_dim)\n",
        "\n",
        "    def call(self, x):\n",
        "        maxlen = tf.shape(x)[-1]\n",
        "        positions = tf.range(start=0, limit=maxlen, delta=1)\n",
        "        positions = self.pos_emb(positions)\n",
        "        x = self.token_emb(x)\n",
        "        return x + positions\n",
        "\n"
      ],
      "execution_count": null,
      "outputs": []
    },
    {
      "cell_type": "markdown",
      "metadata": {
        "id": "75lTilUo_06i"
      },
      "source": [
        "\n",
        "\n",
        "# Load datasets: one dataset for each binary classification problem.\n"
      ]
    },
    {
      "cell_type": "code",
      "metadata": {
        "id": "CiVbQtvn_06j"
      },
      "source": [
        "vocab_size = 283 # includes special tokens\n",
        "maxlen = 100 \n"
      ],
      "execution_count": null,
      "outputs": []
    },
    {
      "cell_type": "code",
      "metadata": {
        "id": "PVHlI0kloDGe"
      },
      "source": [
        "def split_and_convert(row):\n",
        "\n",
        "  return [int(x) for x in row.split(\" \")]\n",
        "\n",
        "\n",
        "def load_data(class_label):\n",
        "\n",
        "  train = pd.read_csv(f\"/content/drive/My Drive/Research/CyberBERT/data/train_over_{class_label}.csv\")\n",
        "  valid = pd.read_csv(f\"/content/drive/My Drive/Research/CyberBERT/data/valid_over_{class_label}.csv\")\n",
        "  test = pd.read_csv(f\"/content/drive/My Drive/Research/CyberBERT/data/test_{class_label}.csv\")\n",
        "\n",
        "  return train, valid, test\n",
        "\n",
        "def process_data(train, valid, test):\n",
        "\n",
        "  train[\"calls\"] = train[\"calls\"].apply(lambda x: split_and_convert(x))\n",
        "  valid[\"calls\"] = valid[\"calls\"].apply(lambda x: split_and_convert(x))\n",
        "  test[\"calls\"] = test[\"calls\"].apply(lambda x: split_and_convert(x))\n",
        "\n",
        "  y_train = np.asarray(train[\"label\"])\n",
        "  x_train = np.stack(np.asarray(train[\"calls\"]),axis=0)\n",
        "\n",
        "  y_val = np.asarray(valid[\"label\"])\n",
        "  x_val = np.stack(np.asarray(valid[\"calls\"]),axis=0)\n",
        "\n",
        "  y_test = np.asarray(test[\"label\"])\n",
        "  x_test = np.stack(np.asarray(test[\"calls\"]),axis=0)\n",
        "\n",
        "  return y_train, x_train, y_val, x_val, y_test, x_test\n",
        "\n",
        "def load_and_process_data(class_label):\n",
        "\n",
        "  train, valid, test = load_data(class_label)\n",
        "\n",
        "  y_train, x_train, y_val, x_val, y_test, x_test = process_data(train, valid, test)\n",
        "\n",
        "  return y_train, x_train, y_val, x_val, y_test, x_test"
      ],
      "execution_count": null,
      "outputs": []
    },
    {
      "cell_type": "code",
      "metadata": {
        "id": "E9qj03rWAW2h"
      },
      "source": [
        "# train = pd.read_csv(\"/content/drive/My Drive/Research/CyberBERT/data/train_over.csv\")\n",
        "# valid = pd.read_csv(\"/content/drive/My Drive/Research/CyberBERT/data/valid_over.csv\")\n",
        "# test = pd.read_csv(\"/content/drive/My Drive/Research/CyberBERT/data/test.csv\")"
      ],
      "execution_count": null,
      "outputs": []
    },
    {
      "cell_type": "markdown",
      "metadata": {
        "id": "BGRwUdok_06r"
      },
      "source": [
        "## Create classifier model using transformer layer\n",
        "\n",
        "Transformer layer outputs one vector for each time step of our input sequence.\n",
        "Here, we take the mean across all time steps and\n",
        "use a feed forward network on top of it to classify text.\n"
      ]
    },
    {
      "cell_type": "code",
      "metadata": {
        "id": "H4GpL8xsWtpJ"
      },
      "source": [
        "def initialize_transformer():\n",
        "\n",
        "  # Use leaky relu\n",
        "  embed_dim = 32  # Embedding size for each token\n",
        "  num_heads = 2  # Number of attention heads\n",
        "  ff_dim = 32  # Hidden layer size in feed forward network inside transformer\n",
        "\n",
        "  inputs = layers.Input(shape=(maxlen,))\n",
        "  embedding_layer = TokenAndPositionEmbedding(maxlen, vocab_size, embed_dim)\n",
        "  x = embedding_layer(inputs)\n",
        "  transformer_block = TransformerBlockWithLeakyRelu(embed_dim, num_heads, ff_dim)\n",
        "  # TO DO: update this part of the model\n",
        "  x = transformer_block(x)\n",
        "  x = layers.GlobalAveragePooling1D()(x)\n",
        "  x = layers.Dropout(0.1)(x)\n",
        "  x = layers.Dense(32, activation=\"relu\")(x)\n",
        "  x = layers.Dropout(0.1)(x)\n",
        "  outputs = layers.Dense(2, activation=\"softmax\")(x)\n",
        "\n",
        "  model = keras.Model(inputs=inputs, outputs=outputs)\n",
        "\n",
        "  return model\n",
        "\n"
      ],
      "execution_count": null,
      "outputs": []
    },
    {
      "cell_type": "markdown",
      "metadata": {
        "id": "VorQBaXP_061"
      },
      "source": [
        "## Train and Evaluate\n"
      ]
    },
    {
      "cell_type": "code",
      "metadata": {
        "id": "xCNLRjcnFis5"
      },
      "source": [
        "from sklearn.metrics import confusion_matrix\n",
        "from keras.preprocessing.text import Tokenizer\n",
        "from keras.layers import LSTM, Dense, Dropout, Embedding\n",
        "from keras.preprocessing import sequence\n",
        "from keras.utils import np_utils\n",
        "from keras.models import Sequential\n",
        "from keras.layers import SpatialDropout1D\n",
        "from mlxtend.plotting import plot_confusion_matrix\n",
        "import matplotlib.pyplot as plt "
      ],
      "execution_count": null,
      "outputs": []
    },
    {
      "cell_type": "code",
      "metadata": {
        "id": "vqQ2xFxsvayl"
      },
      "source": [
        "CLASSES = [\"Adware\", \"Backdoor\", \"Downloader\", \"Dropper\",\"Spyware\", \"Trojan\", \"Virus\", \"Worms\"]"
      ],
      "execution_count": null,
      "outputs": []
    },
    {
      "cell_type": "code",
      "metadata": {
        "id": "7SZu4xC_h3U1"
      },
      "source": [
        "def get_prediction_accuracy(y_test, x_test, model, class_label, history):\n",
        "  y_test_pred = transformer.predict(x_test)\n",
        "  y_classes = y_test_pred.argmax(axis=-1)\n",
        "  cm = confusion_matrix(y_test, y_classes)\n",
        "\n",
        "  cm = plot_confusion_matrix(conf_mat=cm,\n",
        "                        show_absolute=True,\n",
        "                        show_normed=True,\n",
        "                        colorbar=True)\n",
        "  plt.show()\n",
        "  plt.savefig(f\"confusion_matrix_{class_label}.png\")\n",
        "\n",
        "  plt.plot(history.history['accuracy'])\n",
        "  plt.plot(history.history['val_accuracy'])\n",
        "  plt.title('model accuracy')\n",
        "  plt.ylabel('accuracy')\n",
        "  plt.xlabel('epoch')\n",
        "  plt.legend(['train', 'validation'], loc='upper left')\n",
        "  plt.grid()\n",
        "  plt.savefig(f\"accuracy_{class_label}.png\")\n",
        "  plt.show()\n",
        "\n",
        "  plt.plot(history.history['loss'])\n",
        "  plt.plot(history.history['val_loss'])\n",
        "  plt.title('model loss')\n",
        "  plt.ylabel('loss')\n",
        "  plt.xlabel('epoch')\n",
        "  plt.legend(['train', 'validation'], loc='upper left')\n",
        "  plt.grid()\n",
        "  plt.savefig(f\"loss_{class_label}.png\")\n",
        "  plt.show()"
      ],
      "execution_count": null,
      "outputs": []
    },
    {
      "cell_type": "code",
      "metadata": {
        "id": "K1e8nZfPpOh4",
        "outputId": "b71c72b5-de9e-4147-cbbe-eef994389e89",
        "colab": {
          "base_uri": "https://localhost:8080/",
          "height": 1000
        }
      },
      "source": [
        "def train_transformer_model_one_class(class_label, x_train, y_train, x_val, y_val):\n",
        "\n",
        "  print(f\"training model for {class_label}\")\n",
        "  transformer = initialize_transformer()\n",
        "  transformer.compile(\"adam\", \"sparse_categorical_crossentropy\", metrics=[\"accuracy\"])\n",
        "  history = transformer.fit(\n",
        "      x_train, y_train, batch_size=32, epochs=1, validation_data=(x_val, y_val)\n",
        "  )\n",
        "  return history, transformer\n",
        "\n",
        "SAVE_PATH = \"/content/drive/My Drive/Research/CyberBERT/model/{filename}.csv\"\n",
        "\n",
        "for class_label in CLASSES: \n",
        "\n",
        "  y_train, x_train, y_val, x_val, y_test, x_test = load_and_process_data(class_label)\n",
        "  history, transformer = train_transformer_model_one_class(class_label, x_train, y_train, x_val, y_val)\n",
        "  get_prediction_accuracy(y_test, x_test, transformer, class_label, history)\n",
        "  print(f\"save transformer model for {class_label}\")\n",
        "  transformer.save(SAVE_PATH.format(filename= f\"{class_label}_transformer_model\"))\n"
      ],
      "execution_count": null,
      "outputs": [
        {
          "output_type": "stream",
          "text": [
            "training model for Adware\n",
            "125/125 [==============================] - 7s 60ms/step - loss: 0.5089 - accuracy: 0.7505 - val_loss: 0.3950 - val_accuracy: 0.7942\n"
          ],
          "name": "stdout"
        },
        {
          "output_type": "display_data",
          "data": {
            "image/png": "[encoded data removed]",
            "text/plain": [
              "<Figure size 432x288 with 2 Axes>"
            ]
          },
          "metadata": {
            "tags": [],
            "needs_background": "light"
          }
        },
        {
          "output_type": "display_data",
          "data": {
            "image/png": "[encoded data removed]",
            "text/plain": [
              "<Figure size 432x288 with 1 Axes>"
            ]
          },
          "metadata": {
            "tags": [],
            "needs_background": "light"
          }
        },
        {
          "output_type": "display_data",
          "data": {
            "image/png": "[encoded data removed]",
            "text/plain": [
              "<Figure size 432x288 with 1 Axes>"
            ]
          },
          "metadata": {
            "tags": [],
            "needs_background": "light"
          }
        },
        {
          "output_type": "stream",
          "text": [
            "save transformer model for Adware\n",
            "WARNING:tensorflow:From /usr/local/lib/python3.6/dist-packages/tensorflow/python/training/tracking/tracking.py:111: Model.state_updates (from tensorflow.python.keras.engine.training) is deprecated and will be removed in a future version.\n",
            "Instructions for updating:\n",
            "This property should not be used in TensorFlow 2.0, as updates are applied automatically.\n",
            "WARNING:tensorflow:From /usr/local/lib/python3.6/dist-packages/tensorflow/python/training/tracking/tracking.py:111: Layer.updates (from tensorflow.python.keras.engine.base_layer) is deprecated and will be removed in a future version.\n",
            "Instructions for updating:\n",
            "This property should not be used in TensorFlow 2.0, as updates are applied automatically.\n",
            "INFO:tensorflow:Assets written to: /content/drive/My Drive/Research/CyberBERT/model/Adware_transformer_model.csv/assets\n"
          ],
          "name": "stdout"
        }
      ]
    },
    {
      "cell_type": "markdown",
      "metadata": {
        "id": "BFSANkHLLYtt"
      },
      "source": [
        "## Benchmark models\n",
        "\n",
        "### LSTM from the paper that created this dataset"
      ]
    },
    {
      "cell_type": "code",
      "metadata": {
        "id": "T7A5VGw7ksOK"
      },
      "source": [
        "def get_prediction_accuracy_LSTM(y_test, x_test, model, class_label, history):\n",
        "  y_test_pred = transformer.predict(x_test)\n",
        "  y_classes = y_test_pred.argmax(axis=-1)\n",
        "  cm = confusion_matrix(y_test, y_classes)\n",
        "\n",
        "  cm = plot_confusion_matrix(conf_mat=cm,\n",
        "                        show_absolute=True,\n",
        "                        show_normed=True,\n",
        "                        colorbar=True)\n",
        "  plt.show()\n",
        "  plt.savefig(f\"confusion_matrix_{class_label}.png\")\n",
        "\n",
        "  plt.plot(history.history['accuracy'])\n",
        "  plt.plot(history.history['val_accuracy'])\n",
        "  plt.title('model accuracy')\n",
        "  plt.ylabel('accuracy')\n",
        "  plt.xlabel('epoch')\n",
        "  plt.legend(['train', 'validation'], loc='upper left')\n",
        "  plt.grid()\n",
        "  plt.savefig(f\"accuracy_{class_label}.png\")\n",
        "  plt.show()\n",
        "\n",
        "  plt.plot(history.history['loss'])\n",
        "  plt.plot(history.history['val_loss'])\n",
        "  plt.title('model loss')\n",
        "  plt.ylabel('loss')\n",
        "  plt.xlabel('epoch')\n",
        "  plt.legend(['train', 'validation'], loc='upper left')\n",
        "  plt.grid()\n",
        "  plt.savefig(f\"loss_{class_label}.png\")\n",
        "  plt.show()"
      ],
      "execution_count": null,
      "outputs": []
    },
    {
      "cell_type": "code",
      "metadata": {
        "id": "2quU1KNpr1aa",
        "outputId": "18b5fe55-e1d0-4fa8-a79a-bbfab8af9a58",
        "colab": {
          "base_uri": "https://localhost:8080/",
          "height": 1000
        }
      },
      "source": [
        "\n",
        "def malware_model(vocab_size, embed_dim, max_len, act_func=\"softsign\"):\n",
        "    model = Sequential()\n",
        "    model.add(Embedding(vocab_size, embed_dim, input_length=max_len))\n",
        "    model.add(SpatialDropout1D(0.1))\n",
        "    model.add(LSTM(32, dropout=0.1, recurrent_dropout=0.1,\n",
        "                   return_sequences=True, activation=act_func))\n",
        "    model.add(LSTM(32, dropout=0.1, activation=act_func, return_sequences=True))\n",
        "    model.add(LSTM(32, dropout=0.1, activation=act_func))\n",
        "    model.add(Dense(128, activation=act_func))\n",
        "    model.add(Dropout(0.1))\n",
        "    model.add(Dense(256, activation=act_func))\n",
        "    model.add(Dropout(0.1))\n",
        "    model.add(Dense(128, activation=act_func))\n",
        "    model.add(Dropout(0.1))\n",
        "    model.add(Dense(1, name='out_layer', activation=\"linear\"))\n",
        "    return model\n",
        "\n",
        "def train_lstm_model_one_class(class_label, x_train, y_train, x_val, y_val):\n",
        "\n",
        "  vocab_size = 283\n",
        "  output_dim = 50\n",
        "  max_len = 100\n",
        "  model = malware_model(vocab_size, output_dim, max_len)\n",
        "  model.compile(loss='mse', optimizer=\"rmsprop\",\n",
        "                metrics=['accuracy'])\n",
        "  history = model.fit(x_train, y_train, batch_size=1000, epochs=10,\n",
        "                      validation_data=(x_val, y_val), verbose=1)\n",
        "  \n",
        "  return history, model\n",
        "\n",
        "SAVE_PATH = \"/content/drive/My Drive/Research/CyberBERT/model/{filename}.csv\"\n",
        "\n",
        "for class_label in CLASSES: \n",
        "\n",
        "  y_train, x_train, y_val, x_val, y_test, x_test = load_and_process_data(class_label)\n",
        "  history, model = train_lstm_model_one_class(class_label, x_train, y_train, x_val, y_val)\n",
        "  get_prediction_accuracy_LSTM(y_test, x_test, model, class_label, history)\n",
        "\n",
        "  print(f\"save LSTM model for {class_label}\")\n",
        "  model.save(SAVE_PATH.format(filename= f\"{class_label}_LSTM_model\"))\n"
      ],
      "execution_count": null,
      "outputs": [
        {
          "output_type": "stream",
          "text": [
            "Epoch 1/10\n",
            "WARNING:tensorflow:5 out of the last 135 calls to <function Model.make_train_function.<locals>.train_function at 0x7f77de49b488> triggered tf.function retracing. Tracing is expensive and the excessive number of tracings could be due to (1) creating @tf.function repeatedly in a loop, (2) passing tensors with different shapes, (3) passing Python objects instead of tensors. For (1), please define your @tf.function outside of the loop. For (2), @tf.function has experimental_relax_shapes=True option that relaxes argument shapes that can avoid unnecessary retracing. For (3), please refer to https://www.tensorflow.org/tutorials/customization/performance#python_or_tensor_args and https://www.tensorflow.org/api_docs/python/tf/function for  more details.\n",
            "4/4 [==============================] - 7s 2s/step - loss: 0.3657 - accuracy: 0.5067 - val_loss: 0.2556 - val_accuracy: 0.4935\n",
            "Epoch 2/10\n",
            "4/4 [==============================] - 7s 2s/step - loss: 0.2414 - accuracy: 0.5730 - val_loss: 0.2340 - val_accuracy: 0.5065\n",
            "Epoch 3/10\n",
            "4/4 [==============================] - 7s 2s/step - loss: 0.2107 - accuracy: 0.6637 - val_loss: 0.1983 - val_accuracy: 0.6829\n",
            "Epoch 4/10\n",
            "4/4 [==============================] - 7s 2s/step - loss: 0.2322 - accuracy: 0.6475 - val_loss: 0.1723 - val_accuracy: 0.7624\n",
            "Epoch 5/10\n",
            "4/4 [==============================] - 7s 2s/step - loss: 0.1607 - accuracy: 0.7815 - val_loss: 0.1518 - val_accuracy: 0.7906\n",
            "Epoch 6/10\n",
            "4/4 [==============================] - 7s 2s/step - loss: 0.1862 - accuracy: 0.7250 - val_loss: 0.1596 - val_accuracy: 0.7664\n",
            "Epoch 7/10\n",
            "4/4 [==============================] - 7s 2s/step - loss: 0.1450 - accuracy: 0.8020 - val_loss: 0.1396 - val_accuracy: 0.8269\n",
            "Epoch 8/10\n",
            "4/4 [==============================] - 7s 2s/step - loss: 0.1480 - accuracy: 0.7915 - val_loss: 0.2159 - val_accuracy: 0.6894\n",
            "Epoch 9/10\n",
            "4/4 [==============================] - 7s 2s/step - loss: 0.1527 - accuracy: 0.7883 - val_loss: 0.1295 - val_accuracy: 0.8418\n",
            "Epoch 10/10\n",
            "4/4 [==============================] - 7s 2s/step - loss: 0.1385 - accuracy: 0.8105 - val_loss: 0.1941 - val_accuracy: 0.6918\n"
          ],
          "name": "stdout"
        },
        {
          "output_type": "display_data",
          "data": {
            "image/png": "[encoded data removed]",
            "text/plain": [
              "<Figure size 432x288 with 2 Axes>"
            ]
          },
          "metadata": {
            "tags": [],
            "needs_background": "light"
          }
        },
        {
          "output_type": "display_data",
          "data": {
            "image/png": "[encoded data removed]",
            "text/plain": [
              "<Figure size 432x288 with 1 Axes>"
            ]
          },
          "metadata": {
            "tags": [],
            "needs_background": "light"
          }
        },
        {
          "output_type": "display_data",
          "data": {
            "image/png": "[encoded data removed]",
            "text/plain": [
              "<Figure size 432x288 with 1 Axes>"
            ]
          },
          "metadata": {
            "tags": [],
            "needs_background": "light"
          }
        },
        {
          "output_type": "stream",
          "text": [
            "save LSTM model for Adware\n",
            "INFO:tensorflow:Assets written to: /content/drive/My Drive/Research/CyberBERT/model/Adware_LSTM_model.csv/assets\n"
          ],
          "name": "stdout"
        }
      ]
    },
    {
      "cell_type": "code",
      "metadata": {
        "id": "wEm1dNA4LzYr",
        "outputId": "6aaf7cdf-09b9-434f-f156-1cb6940279d5",
        "colab": {
          "base_uri": "https://localhost:8080/",
          "height": 351
        }
      },
      "source": [
        "# ## TO DO: update as below\n",
        "# ### WARNING:tensorflow:From <ipython-input-43-f0d47c322d5c>:1: Sequential.predict_classes (from tensorflow.python.keras.engine.sequential) is deprecated and will be removed after 2021-01-01.\n",
        "# # Instructions for updating:\n",
        "# # Please use instead:* `np.argmax(model.predict(x), axis=-1)`,   if your model does multi-class classification   (e.g. if it uses a `softmax` last-layer activation).* `(model.predict(x) > 0.5).astype(\"int32\")`,   if your model does binary classification   (e.g. if it uses a `sigmoid` last-layer activation).\n",
        "# y_test_pred = model.predict_classes(x_test)\n",
        "# cm = confusion_matrix(y_test, y_test_pred)\n",
        "\n",
        "# plot_confusion_matrix(conf_mat=cm,\n",
        "#                       show_absolute=True,\n",
        "#                       show_normed=True,\n",
        "#                       colorbar=True)\n",
        "# # plt.savefig(\"confusion_matrix.png\")\n",
        "# plt.show()"
      ],
      "execution_count": null,
      "outputs": [
        {
          "output_type": "stream",
          "text": [
            "WARNING:tensorflow:From <ipython-input-43-f0d47c322d5c>:1: Sequential.predict_classes (from tensorflow.python.keras.engine.sequential) is deprecated and will be removed after 2021-01-01.\n",
            "Instructions for updating:\n",
            "Please use instead:* `np.argmax(model.predict(x), axis=-1)`,   if your model does multi-class classification   (e.g. if it uses a `softmax` last-layer activation).* `(model.predict(x) > 0.5).astype(\"int32\")`,   if your model does binary classification   (e.g. if it uses a `sigmoid` last-layer activation).\n"
          ],
          "name": "stdout"
        },
        {
          "output_type": "display_data",
          "data": {
            "image/png": "[encoded data removed]",
            "text/plain": [
              "<Figure size 432x288 with 2 Axes>"
            ]
          },
          "metadata": {
            "tags": [],
            "needs_background": "light"
          }
        }
      ]
    },
    {
      "cell_type": "code",
      "metadata": {
        "id": "K18DPBzwVpWw"
      },
      "source": [
        ""
      ],
      "execution_count": null,
      "outputs": []
    }
  ]
}